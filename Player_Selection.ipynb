{
 "cells": [
  {
   "cell_type": "code",
   "execution_count": 1,
   "id": "0d7480e9",
   "metadata": {},
   "outputs": [],
   "source": [
    "import pandas as pd\n",
    "import seaborn as sns\n",
    "import matplotlib.pyplot as plt\n",
    "import numpy as np"
   ]
  },
  {
   "cell_type": "code",
   "execution_count": 2,
   "id": "5da2d502",
   "metadata": {},
   "outputs": [
    {
     "name": "stderr",
     "output_type": "stream",
     "text": [
      "/opt/homebrew/Cellar/jupyterlab/3.2.9/libexec/lib/python3.9/site-packages/IPython/core/interactiveshell.py:3251: DtypeWarning: Columns (25,108) have mixed types.Specify dtype option on import or set low_memory=False.\n",
      "  exec(code_obj, self.user_global_ns, self.user_ns)\n"
     ]
    },
    {
     "data": {
      "text/html": [
       "<div>\n",
       "<style scoped>\n",
       "    .dataframe tbody tr th:only-of-type {\n",
       "        vertical-align: middle;\n",
       "    }\n",
       "\n",
       "    .dataframe tbody tr th {\n",
       "        vertical-align: top;\n",
       "    }\n",
       "\n",
       "    .dataframe thead th {\n",
       "        text-align: right;\n",
       "    }\n",
       "</style>\n",
       "<table border=\"1\" class=\"dataframe\">\n",
       "  <thead>\n",
       "    <tr style=\"text-align: right;\">\n",
       "      <th></th>\n",
       "      <th>sofifa_id</th>\n",
       "      <th>player_url</th>\n",
       "      <th>short_name</th>\n",
       "      <th>long_name</th>\n",
       "      <th>player_positions</th>\n",
       "      <th>overall</th>\n",
       "      <th>potential</th>\n",
       "      <th>value_eur</th>\n",
       "      <th>wage_eur</th>\n",
       "      <th>age</th>\n",
       "      <th>...</th>\n",
       "      <th>lcb</th>\n",
       "      <th>cb</th>\n",
       "      <th>rcb</th>\n",
       "      <th>rb</th>\n",
       "      <th>gk</th>\n",
       "      <th>player_face_url</th>\n",
       "      <th>club_logo_url</th>\n",
       "      <th>club_flag_url</th>\n",
       "      <th>nation_logo_url</th>\n",
       "      <th>nation_flag_url</th>\n",
       "    </tr>\n",
       "  </thead>\n",
       "  <tbody>\n",
       "    <tr>\n",
       "      <th>0</th>\n",
       "      <td>158023</td>\n",
       "      <td>https://sofifa.com/player/158023/lionel-messi/...</td>\n",
       "      <td>L. Messi</td>\n",
       "      <td>Lionel Andrés Messi Cuccittini</td>\n",
       "      <td>RW, ST, CF</td>\n",
       "      <td>93</td>\n",
       "      <td>93</td>\n",
       "      <td>78000000.0</td>\n",
       "      <td>320000.0</td>\n",
       "      <td>34</td>\n",
       "      <td>...</td>\n",
       "      <td>50+3</td>\n",
       "      <td>50+3</td>\n",
       "      <td>50+3</td>\n",
       "      <td>61+3</td>\n",
       "      <td>19+3</td>\n",
       "      <td>https://cdn.sofifa.net/players/158/023/22_120.png</td>\n",
       "      <td>https://cdn.sofifa.net/teams/73/60.png</td>\n",
       "      <td>https://cdn.sofifa.net/flags/fr.png</td>\n",
       "      <td>https://cdn.sofifa.net/teams/1369/60.png</td>\n",
       "      <td>https://cdn.sofifa.net/flags/ar.png</td>\n",
       "    </tr>\n",
       "    <tr>\n",
       "      <th>1</th>\n",
       "      <td>188545</td>\n",
       "      <td>https://sofifa.com/player/188545/robert-lewand...</td>\n",
       "      <td>R. Lewandowski</td>\n",
       "      <td>Robert Lewandowski</td>\n",
       "      <td>ST</td>\n",
       "      <td>92</td>\n",
       "      <td>92</td>\n",
       "      <td>119500000.0</td>\n",
       "      <td>270000.0</td>\n",
       "      <td>32</td>\n",
       "      <td>...</td>\n",
       "      <td>60+3</td>\n",
       "      <td>60+3</td>\n",
       "      <td>60+3</td>\n",
       "      <td>61+3</td>\n",
       "      <td>19+3</td>\n",
       "      <td>https://cdn.sofifa.net/players/188/545/22_120.png</td>\n",
       "      <td>https://cdn.sofifa.net/teams/21/60.png</td>\n",
       "      <td>https://cdn.sofifa.net/flags/de.png</td>\n",
       "      <td>https://cdn.sofifa.net/teams/1353/60.png</td>\n",
       "      <td>https://cdn.sofifa.net/flags/pl.png</td>\n",
       "    </tr>\n",
       "    <tr>\n",
       "      <th>2</th>\n",
       "      <td>20801</td>\n",
       "      <td>https://sofifa.com/player/20801/c-ronaldo-dos-...</td>\n",
       "      <td>Cristiano Ronaldo</td>\n",
       "      <td>Cristiano Ronaldo dos Santos Aveiro</td>\n",
       "      <td>ST, LW</td>\n",
       "      <td>91</td>\n",
       "      <td>91</td>\n",
       "      <td>45000000.0</td>\n",
       "      <td>270000.0</td>\n",
       "      <td>36</td>\n",
       "      <td>...</td>\n",
       "      <td>53+3</td>\n",
       "      <td>53+3</td>\n",
       "      <td>53+3</td>\n",
       "      <td>60+3</td>\n",
       "      <td>20+3</td>\n",
       "      <td>https://cdn.sofifa.net/players/020/801/22_120.png</td>\n",
       "      <td>https://cdn.sofifa.net/teams/11/60.png</td>\n",
       "      <td>https://cdn.sofifa.net/flags/gb-eng.png</td>\n",
       "      <td>https://cdn.sofifa.net/teams/1354/60.png</td>\n",
       "      <td>https://cdn.sofifa.net/flags/pt.png</td>\n",
       "    </tr>\n",
       "    <tr>\n",
       "      <th>3</th>\n",
       "      <td>190871</td>\n",
       "      <td>https://sofifa.com/player/190871/neymar-da-sil...</td>\n",
       "      <td>Neymar Jr</td>\n",
       "      <td>Neymar da Silva Santos Júnior</td>\n",
       "      <td>LW, CAM</td>\n",
       "      <td>91</td>\n",
       "      <td>91</td>\n",
       "      <td>129000000.0</td>\n",
       "      <td>270000.0</td>\n",
       "      <td>29</td>\n",
       "      <td>...</td>\n",
       "      <td>50+3</td>\n",
       "      <td>50+3</td>\n",
       "      <td>50+3</td>\n",
       "      <td>62+3</td>\n",
       "      <td>20+3</td>\n",
       "      <td>https://cdn.sofifa.net/players/190/871/22_120.png</td>\n",
       "      <td>https://cdn.sofifa.net/teams/73/60.png</td>\n",
       "      <td>https://cdn.sofifa.net/flags/fr.png</td>\n",
       "      <td>NaN</td>\n",
       "      <td>https://cdn.sofifa.net/flags/br.png</td>\n",
       "    </tr>\n",
       "    <tr>\n",
       "      <th>4</th>\n",
       "      <td>192985</td>\n",
       "      <td>https://sofifa.com/player/192985/kevin-de-bruy...</td>\n",
       "      <td>K. De Bruyne</td>\n",
       "      <td>Kevin De Bruyne</td>\n",
       "      <td>CM, CAM</td>\n",
       "      <td>91</td>\n",
       "      <td>91</td>\n",
       "      <td>125500000.0</td>\n",
       "      <td>350000.0</td>\n",
       "      <td>30</td>\n",
       "      <td>...</td>\n",
       "      <td>69+3</td>\n",
       "      <td>69+3</td>\n",
       "      <td>69+3</td>\n",
       "      <td>75+3</td>\n",
       "      <td>21+3</td>\n",
       "      <td>https://cdn.sofifa.net/players/192/985/22_120.png</td>\n",
       "      <td>https://cdn.sofifa.net/teams/10/60.png</td>\n",
       "      <td>https://cdn.sofifa.net/flags/gb-eng.png</td>\n",
       "      <td>https://cdn.sofifa.net/teams/1325/60.png</td>\n",
       "      <td>https://cdn.sofifa.net/flags/be.png</td>\n",
       "    </tr>\n",
       "  </tbody>\n",
       "</table>\n",
       "<p>5 rows × 110 columns</p>\n",
       "</div>"
      ],
      "text/plain": [
       "   sofifa_id                                         player_url  \\\n",
       "0     158023  https://sofifa.com/player/158023/lionel-messi/...   \n",
       "1     188545  https://sofifa.com/player/188545/robert-lewand...   \n",
       "2      20801  https://sofifa.com/player/20801/c-ronaldo-dos-...   \n",
       "3     190871  https://sofifa.com/player/190871/neymar-da-sil...   \n",
       "4     192985  https://sofifa.com/player/192985/kevin-de-bruy...   \n",
       "\n",
       "          short_name                            long_name player_positions  \\\n",
       "0           L. Messi       Lionel Andrés Messi Cuccittini       RW, ST, CF   \n",
       "1     R. Lewandowski                   Robert Lewandowski               ST   \n",
       "2  Cristiano Ronaldo  Cristiano Ronaldo dos Santos Aveiro           ST, LW   \n",
       "3          Neymar Jr        Neymar da Silva Santos Júnior          LW, CAM   \n",
       "4       K. De Bruyne                      Kevin De Bruyne          CM, CAM   \n",
       "\n",
       "   overall  potential    value_eur  wage_eur  age  ...   lcb    cb   rcb  \\\n",
       "0       93         93   78000000.0  320000.0   34  ...  50+3  50+3  50+3   \n",
       "1       92         92  119500000.0  270000.0   32  ...  60+3  60+3  60+3   \n",
       "2       91         91   45000000.0  270000.0   36  ...  53+3  53+3  53+3   \n",
       "3       91         91  129000000.0  270000.0   29  ...  50+3  50+3  50+3   \n",
       "4       91         91  125500000.0  350000.0   30  ...  69+3  69+3  69+3   \n",
       "\n",
       "     rb    gk                                    player_face_url  \\\n",
       "0  61+3  19+3  https://cdn.sofifa.net/players/158/023/22_120.png   \n",
       "1  61+3  19+3  https://cdn.sofifa.net/players/188/545/22_120.png   \n",
       "2  60+3  20+3  https://cdn.sofifa.net/players/020/801/22_120.png   \n",
       "3  62+3  20+3  https://cdn.sofifa.net/players/190/871/22_120.png   \n",
       "4  75+3  21+3  https://cdn.sofifa.net/players/192/985/22_120.png   \n",
       "\n",
       "                            club_logo_url  \\\n",
       "0  https://cdn.sofifa.net/teams/73/60.png   \n",
       "1  https://cdn.sofifa.net/teams/21/60.png   \n",
       "2  https://cdn.sofifa.net/teams/11/60.png   \n",
       "3  https://cdn.sofifa.net/teams/73/60.png   \n",
       "4  https://cdn.sofifa.net/teams/10/60.png   \n",
       "\n",
       "                             club_flag_url  \\\n",
       "0      https://cdn.sofifa.net/flags/fr.png   \n",
       "1      https://cdn.sofifa.net/flags/de.png   \n",
       "2  https://cdn.sofifa.net/flags/gb-eng.png   \n",
       "3      https://cdn.sofifa.net/flags/fr.png   \n",
       "4  https://cdn.sofifa.net/flags/gb-eng.png   \n",
       "\n",
       "                            nation_logo_url  \\\n",
       "0  https://cdn.sofifa.net/teams/1369/60.png   \n",
       "1  https://cdn.sofifa.net/teams/1353/60.png   \n",
       "2  https://cdn.sofifa.net/teams/1354/60.png   \n",
       "3                                       NaN   \n",
       "4  https://cdn.sofifa.net/teams/1325/60.png   \n",
       "\n",
       "                       nation_flag_url  \n",
       "0  https://cdn.sofifa.net/flags/ar.png  \n",
       "1  https://cdn.sofifa.net/flags/pl.png  \n",
       "2  https://cdn.sofifa.net/flags/pt.png  \n",
       "3  https://cdn.sofifa.net/flags/br.png  \n",
       "4  https://cdn.sofifa.net/flags/be.png  \n",
       "\n",
       "[5 rows x 110 columns]"
      ]
     },
     "execution_count": 2,
     "metadata": {},
     "output_type": "execute_result"
    }
   ],
   "source": [
    "full_df = pd.read_csv(\"FullData.csv\")\n",
    "full_df.head()"
   ]
  },
  {
   "cell_type": "code",
   "execution_count": 3,
   "id": "a169ed15",
   "metadata": {},
   "outputs": [
    {
     "data": {
      "text/plain": [
       "Index(['sofifa_id', 'player_url', 'short_name', 'long_name',\n",
       "       'player_positions', 'overall', 'potential', 'value_eur', 'wage_eur',\n",
       "       'age',\n",
       "       ...\n",
       "       'lcb', 'cb', 'rcb', 'rb', 'gk', 'player_face_url', 'club_logo_url',\n",
       "       'club_flag_url', 'nation_logo_url', 'nation_flag_url'],\n",
       "      dtype='object', length=110)"
      ]
     },
     "execution_count": 3,
     "metadata": {},
     "output_type": "execute_result"
    }
   ],
   "source": [
    "full_df.columns"
   ]
  },
  {
   "cell_type": "code",
   "execution_count": 4,
   "id": "a0fc6c78",
   "metadata": {},
   "outputs": [
    {
     "data": {
      "text/plain": [
       "<AxesSubplot:xlabel='count', ylabel='nationality_name'>"
      ]
     },
     "execution_count": 4,
     "metadata": {},
     "output_type": "execute_result"
    },
    {
     "data": {
      "image/png": "[encoded data removed]",
      "text/plain": [
       "<Figure size 1080x2160 with 1 Axes>"
      ]
     },
     "metadata": {
      "needs_background": "light"
     },
     "output_type": "display_data"
    }
   ],
   "source": [
    "plt.figure(figsize=(15,30))\n",
    "sns.countplot(y=full_df.nationality_name, palette=\"Set2\")"
   ]
  },
  {
   "cell_type": "code",
   "execution_count": 5,
   "id": "0d874277",
   "metadata": {},
   "outputs": [
    {
     "data": {
      "text/plain": [
       "<AxesSubplot:xlabel='age', ylabel='count'>"
      ]
     },
     "execution_count": 5,
     "metadata": {},
     "output_type": "execute_result"
    },
    {
     "data": {
      "image/png": "[encoded data removed]",
      "text/plain": [
       "<Figure size 1080x432 with 1 Axes>"
      ]
     },
     "metadata": {
      "needs_background": "light"
     },
     "output_type": "display_data"
    }
   ],
   "source": [
    "plt.figure(figsize=(15,6))\n",
    "sns.countplot(x=\"age\", data=full_df)  "
   ]
  },
  {
   "cell_type": "code",
   "execution_count": 6,
   "id": "76cf6211",
   "metadata": {},
   "outputs": [],
   "source": [
    "clubname = 'Ajax'"
   ]
  },
  {
   "cell_type": "code",
   "execution_count": 7,
   "id": "d2d9d04a",
   "metadata": {},
   "outputs": [],
   "source": [
    "df = full_df[full_df['club_name'] == clubname]"
   ]
  },
  {
   "cell_type": "code",
   "execution_count": 8,
   "id": "c63991f1",
   "metadata": {},
   "outputs": [
    {
     "data": {
      "text/html": [
       "<div>\n",
       "<style scoped>\n",
       "    .dataframe tbody tr th:only-of-type {\n",
       "        vertical-align: middle;\n",
       "    }\n",
       "\n",
       "    .dataframe tbody tr th {\n",
       "        vertical-align: top;\n",
       "    }\n",
       "\n",
       "    .dataframe thead th {\n",
       "        text-align: right;\n",
       "    }\n",
       "</style>\n",
       "<table border=\"1\" class=\"dataframe\">\n",
       "  <thead>\n",
       "    <tr style=\"text-align: right;\">\n",
       "      <th></th>\n",
       "      <th>sofifa_id</th>\n",
       "      <th>player_url</th>\n",
       "      <th>short_name</th>\n",
       "      <th>long_name</th>\n",
       "      <th>player_positions</th>\n",
       "      <th>overall</th>\n",
       "      <th>potential</th>\n",
       "      <th>value_eur</th>\n",
       "      <th>wage_eur</th>\n",
       "      <th>age</th>\n",
       "      <th>...</th>\n",
       "      <th>lcb</th>\n",
       "      <th>cb</th>\n",
       "      <th>rcb</th>\n",
       "      <th>rb</th>\n",
       "      <th>gk</th>\n",
       "      <th>player_face_url</th>\n",
       "      <th>club_logo_url</th>\n",
       "      <th>club_flag_url</th>\n",
       "      <th>nation_logo_url</th>\n",
       "      <th>nation_flag_url</th>\n",
       "    </tr>\n",
       "  </thead>\n",
       "  <tbody>\n",
       "    <tr>\n",
       "      <th>109</th>\n",
       "      <td>199434</td>\n",
       "      <td>https://sofifa.com/player/199434/dusan-tadic/2...</td>\n",
       "      <td>D. Tadić</td>\n",
       "      <td>Dušan Tadić</td>\n",
       "      <td>LW, CF, CAM</td>\n",
       "      <td>84</td>\n",
       "      <td>84</td>\n",
       "      <td>33500000.0</td>\n",
       "      <td>32000.0</td>\n",
       "      <td>32</td>\n",
       "      <td>...</td>\n",
       "      <td>55+3</td>\n",
       "      <td>55+3</td>\n",
       "      <td>55+3</td>\n",
       "      <td>61+3</td>\n",
       "      <td>20+3</td>\n",
       "      <td>https://cdn.sofifa.net/players/199/434/22_120.png</td>\n",
       "      <td>https://cdn.sofifa.net/teams/245/60.png</td>\n",
       "      <td>https://cdn.sofifa.net/flags/nl.png</td>\n",
       "      <td>NaN</td>\n",
       "      <td>https://cdn.sofifa.net/flags/rs.png</td>\n",
       "    </tr>\n",
       "    <tr>\n",
       "      <th>214</th>\n",
       "      <td>190815</td>\n",
       "      <td>https://sofifa.com/player/190815/daley-blind/2...</td>\n",
       "      <td>D. Blind</td>\n",
       "      <td>Daley Blind</td>\n",
       "      <td>CB, CDM, LB</td>\n",
       "      <td>82</td>\n",
       "      <td>82</td>\n",
       "      <td>21000000.0</td>\n",
       "      <td>23000.0</td>\n",
       "      <td>31</td>\n",
       "      <td>...</td>\n",
       "      <td>80+2</td>\n",
       "      <td>80+2</td>\n",
       "      <td>80+2</td>\n",
       "      <td>78+3</td>\n",
       "      <td>19+3</td>\n",
       "      <td>https://cdn.sofifa.net/players/190/815/22_120.png</td>\n",
       "      <td>https://cdn.sofifa.net/teams/245/60.png</td>\n",
       "      <td>https://cdn.sofifa.net/flags/nl.png</td>\n",
       "      <td>https://cdn.sofifa.net/teams/105035/60.png</td>\n",
       "      <td>https://cdn.sofifa.net/flags/nl.png</td>\n",
       "    </tr>\n",
       "    <tr>\n",
       "      <th>242</th>\n",
       "      <td>211256</td>\n",
       "      <td>https://sofifa.com/player/211256/nicolas-tagli...</td>\n",
       "      <td>N. Tagliafico</td>\n",
       "      <td>Nicolás Alejandro Tagliafico</td>\n",
       "      <td>LB</td>\n",
       "      <td>82</td>\n",
       "      <td>82</td>\n",
       "      <td>27500000.0</td>\n",
       "      <td>24000.0</td>\n",
       "      <td>28</td>\n",
       "      <td>...</td>\n",
       "      <td>80+2</td>\n",
       "      <td>80+2</td>\n",
       "      <td>80+2</td>\n",
       "      <td>80+2</td>\n",
       "      <td>21+3</td>\n",
       "      <td>https://cdn.sofifa.net/players/211/256/22_120.png</td>\n",
       "      <td>https://cdn.sofifa.net/teams/245/60.png</td>\n",
       "      <td>https://cdn.sofifa.net/flags/nl.png</td>\n",
       "      <td>https://cdn.sofifa.net/teams/1369/60.png</td>\n",
       "      <td>https://cdn.sofifa.net/flags/ar.png</td>\n",
       "    </tr>\n",
       "    <tr>\n",
       "      <th>314</th>\n",
       "      <td>200260</td>\n",
       "      <td>https://sofifa.com/player/200260/steven-berghu...</td>\n",
       "      <td>S. Berghuis</td>\n",
       "      <td>Steven Berghuis</td>\n",
       "      <td>RW</td>\n",
       "      <td>81</td>\n",
       "      <td>81</td>\n",
       "      <td>25500000.0</td>\n",
       "      <td>26000.0</td>\n",
       "      <td>29</td>\n",
       "      <td>...</td>\n",
       "      <td>49+2</td>\n",
       "      <td>49+2</td>\n",
       "      <td>49+2</td>\n",
       "      <td>58+2</td>\n",
       "      <td>18+2</td>\n",
       "      <td>https://cdn.sofifa.net/players/200/260/22_120.png</td>\n",
       "      <td>https://cdn.sofifa.net/teams/245/60.png</td>\n",
       "      <td>https://cdn.sofifa.net/flags/nl.png</td>\n",
       "      <td>https://cdn.sofifa.net/teams/105035/60.png</td>\n",
       "      <td>https://cdn.sofifa.net/flags/nl.png</td>\n",
       "    </tr>\n",
       "    <tr>\n",
       "      <th>438</th>\n",
       "      <td>205693</td>\n",
       "      <td>https://sofifa.com/player/205693/sebastien-hal...</td>\n",
       "      <td>S. Haller</td>\n",
       "      <td>Sébastien Haller</td>\n",
       "      <td>ST</td>\n",
       "      <td>80</td>\n",
       "      <td>81</td>\n",
       "      <td>24500000.0</td>\n",
       "      <td>23000.0</td>\n",
       "      <td>27</td>\n",
       "      <td>...</td>\n",
       "      <td>63+3</td>\n",
       "      <td>63+3</td>\n",
       "      <td>63+3</td>\n",
       "      <td>60+3</td>\n",
       "      <td>15+3</td>\n",
       "      <td>https://cdn.sofifa.net/players/205/693/22_120.png</td>\n",
       "      <td>https://cdn.sofifa.net/teams/245/60.png</td>\n",
       "      <td>https://cdn.sofifa.net/flags/nl.png</td>\n",
       "      <td>NaN</td>\n",
       "      <td>https://cdn.sofifa.net/flags/ci.png</td>\n",
       "    </tr>\n",
       "    <tr>\n",
       "      <th>494</th>\n",
       "      <td>236401</td>\n",
       "      <td>https://sofifa.com/player/236401/noussair-mazr...</td>\n",
       "      <td>N. Mazraoui</td>\n",
       "      <td>Noussair Mazraoui</td>\n",
       "      <td>RB</td>\n",
       "      <td>80</td>\n",
       "      <td>85</td>\n",
       "      <td>29500000.0</td>\n",
       "      <td>17000.0</td>\n",
       "      <td>23</td>\n",
       "      <td>...</td>\n",
       "      <td>74+2</td>\n",
       "      <td>74+2</td>\n",
       "      <td>74+2</td>\n",
       "      <td>78+2</td>\n",
       "      <td>18+2</td>\n",
       "      <td>https://cdn.sofifa.net/players/236/401/22_120.png</td>\n",
       "      <td>https://cdn.sofifa.net/teams/245/60.png</td>\n",
       "      <td>https://cdn.sofifa.net/flags/nl.png</td>\n",
       "      <td>NaN</td>\n",
       "      <td>https://cdn.sofifa.net/flags/ma.png</td>\n",
       "    </tr>\n",
       "    <tr>\n",
       "      <th>564</th>\n",
       "      <td>203483</td>\n",
       "      <td>https://sofifa.com/player/203483/davy-klaassen...</td>\n",
       "      <td>D. Klaassen</td>\n",
       "      <td>Davy Klaassen</td>\n",
       "      <td>CAM, CM</td>\n",
       "      <td>79</td>\n",
       "      <td>79</td>\n",
       "      <td>17500000.0</td>\n",
       "      <td>21000.0</td>\n",
       "      <td>28</td>\n",
       "      <td>...</td>\n",
       "      <td>74+2</td>\n",
       "      <td>74+2</td>\n",
       "      <td>74+2</td>\n",
       "      <td>74+2</td>\n",
       "      <td>19+2</td>\n",
       "      <td>https://cdn.sofifa.net/players/203/483/22_120.png</td>\n",
       "      <td>https://cdn.sofifa.net/teams/245/60.png</td>\n",
       "      <td>https://cdn.sofifa.net/flags/nl.png</td>\n",
       "      <td>https://cdn.sofifa.net/teams/105035/60.png</td>\n",
       "      <td>https://cdn.sofifa.net/flags/nl.png</td>\n",
       "    </tr>\n",
       "    <tr>\n",
       "      <th>646</th>\n",
       "      <td>236632</td>\n",
       "      <td>https://sofifa.com/player/236632/david-neres-c...</td>\n",
       "      <td>David Neres</td>\n",
       "      <td>David Neres Campos</td>\n",
       "      <td>RW, LW</td>\n",
       "      <td>79</td>\n",
       "      <td>83</td>\n",
       "      <td>25000000.0</td>\n",
       "      <td>19000.0</td>\n",
       "      <td>24</td>\n",
       "      <td>...</td>\n",
       "      <td>48+3</td>\n",
       "      <td>48+3</td>\n",
       "      <td>48+3</td>\n",
       "      <td>56+3</td>\n",
       "      <td>18+3</td>\n",
       "      <td>https://cdn.sofifa.net/players/236/632/22_120.png</td>\n",
       "      <td>https://cdn.sofifa.net/teams/245/60.png</td>\n",
       "      <td>https://cdn.sofifa.net/flags/nl.png</td>\n",
       "      <td>NaN</td>\n",
       "      <td>https://cdn.sofifa.net/flags/br.png</td>\n",
       "    </tr>\n",
       "    <tr>\n",
       "      <th>649</th>\n",
       "      <td>239301</td>\n",
       "      <td>https://sofifa.com/player/239301/lisandro-mart...</td>\n",
       "      <td>L. Martínez</td>\n",
       "      <td>Lisandro Martínez</td>\n",
       "      <td>CB, LB, CDM</td>\n",
       "      <td>79</td>\n",
       "      <td>85</td>\n",
       "      <td>25000000.0</td>\n",
       "      <td>16000.0</td>\n",
       "      <td>23</td>\n",
       "      <td>...</td>\n",
       "      <td>79+2</td>\n",
       "      <td>79+2</td>\n",
       "      <td>79+2</td>\n",
       "      <td>77+2</td>\n",
       "      <td>18+2</td>\n",
       "      <td>https://cdn.sofifa.net/players/239/301/22_120.png</td>\n",
       "      <td>https://cdn.sofifa.net/teams/245/60.png</td>\n",
       "      <td>https://cdn.sofifa.net/flags/nl.png</td>\n",
       "      <td>https://cdn.sofifa.net/teams/1369/60.png</td>\n",
       "      <td>https://cdn.sofifa.net/flags/ar.png</td>\n",
       "    </tr>\n",
       "    <tr>\n",
       "      <th>662</th>\n",
       "      <td>255475</td>\n",
       "      <td>https://sofifa.com/player/255475/antony-matheu...</td>\n",
       "      <td>Antony</td>\n",
       "      <td>Antony Matheus dos Santos</td>\n",
       "      <td>RW</td>\n",
       "      <td>79</td>\n",
       "      <td>88</td>\n",
       "      <td>39500000.0</td>\n",
       "      <td>17000.0</td>\n",
       "      <td>21</td>\n",
       "      <td>...</td>\n",
       "      <td>48+2</td>\n",
       "      <td>48+2</td>\n",
       "      <td>48+2</td>\n",
       "      <td>57+2</td>\n",
       "      <td>17+2</td>\n",
       "      <td>https://cdn.sofifa.net/players/255/475/22_120.png</td>\n",
       "      <td>https://cdn.sofifa.net/teams/245/60.png</td>\n",
       "      <td>https://cdn.sofifa.net/flags/nl.png</td>\n",
       "      <td>NaN</td>\n",
       "      <td>https://cdn.sofifa.net/flags/br.png</td>\n",
       "    </tr>\n",
       "    <tr>\n",
       "      <th>854</th>\n",
       "      <td>246104</td>\n",
       "      <td>https://sofifa.com/player/246104/ryan-gravenbe...</td>\n",
       "      <td>R. Gravenberch</td>\n",
       "      <td>Ryan Jiro Gravenberch</td>\n",
       "      <td>CM, CDM</td>\n",
       "      <td>78</td>\n",
       "      <td>90</td>\n",
       "      <td>33000000.0</td>\n",
       "      <td>11000.0</td>\n",
       "      <td>19</td>\n",
       "      <td>...</td>\n",
       "      <td>68+2</td>\n",
       "      <td>68+2</td>\n",
       "      <td>68+2</td>\n",
       "      <td>72+2</td>\n",
       "      <td>17+2</td>\n",
       "      <td>https://cdn.sofifa.net/players/246/104/22_120.png</td>\n",
       "      <td>https://cdn.sofifa.net/teams/245/60.png</td>\n",
       "      <td>https://cdn.sofifa.net/flags/nl.png</td>\n",
       "      <td>https://cdn.sofifa.net/teams/105035/60.png</td>\n",
       "      <td>https://cdn.sofifa.net/flags/nl.png</td>\n",
       "    </tr>\n",
       "    <tr>\n",
       "      <th>1079</th>\n",
       "      <td>235844</td>\n",
       "      <td>https://sofifa.com/player/235844/edson-alvarez...</td>\n",
       "      <td>E. Álvarez</td>\n",
       "      <td>Edson Omar Álvarez Velázquez</td>\n",
       "      <td>CDM, CB</td>\n",
       "      <td>77</td>\n",
       "      <td>83</td>\n",
       "      <td>15500000.0</td>\n",
       "      <td>14000.0</td>\n",
       "      <td>23</td>\n",
       "      <td>...</td>\n",
       "      <td>78+2</td>\n",
       "      <td>78+2</td>\n",
       "      <td>78+2</td>\n",
       "      <td>75+2</td>\n",
       "      <td>15+2</td>\n",
       "      <td>https://cdn.sofifa.net/players/235/844/22_120.png</td>\n",
       "      <td>https://cdn.sofifa.net/teams/245/60.png</td>\n",
       "      <td>https://cdn.sofifa.net/flags/nl.png</td>\n",
       "      <td>https://cdn.sofifa.net/teams/1386/60.png</td>\n",
       "      <td>https://cdn.sofifa.net/flags/mx.png</td>\n",
       "    </tr>\n",
       "    <tr>\n",
       "      <th>1120</th>\n",
       "      <td>245155</td>\n",
       "      <td>https://sofifa.com/player/245155/mohammed-kudu...</td>\n",
       "      <td>M. Kudus</td>\n",
       "      <td>Mohammed Kudus</td>\n",
       "      <td>CAM, CM</td>\n",
       "      <td>77</td>\n",
       "      <td>86</td>\n",
       "      <td>23000000.0</td>\n",
       "      <td>13000.0</td>\n",
       "      <td>20</td>\n",
       "      <td>...</td>\n",
       "      <td>64+2</td>\n",
       "      <td>64+2</td>\n",
       "      <td>64+2</td>\n",
       "      <td>67+2</td>\n",
       "      <td>15+2</td>\n",
       "      <td>https://cdn.sofifa.net/players/245/155/22_120.png</td>\n",
       "      <td>https://cdn.sofifa.net/teams/245/60.png</td>\n",
       "      <td>https://cdn.sofifa.net/flags/nl.png</td>\n",
       "      <td>NaN</td>\n",
       "      <td>https://cdn.sofifa.net/flags/gh.png</td>\n",
       "    </tr>\n",
       "    <tr>\n",
       "      <th>1136</th>\n",
       "      <td>2147</td>\n",
       "      <td>https://sofifa.com/player/2147/maarten-stekele...</td>\n",
       "      <td>M. Stekelenburg</td>\n",
       "      <td>Maarten Stekelenburg</td>\n",
       "      <td>GK</td>\n",
       "      <td>76</td>\n",
       "      <td>76</td>\n",
       "      <td>825000.0</td>\n",
       "      <td>8000.0</td>\n",
       "      <td>38</td>\n",
       "      <td>...</td>\n",
       "      <td>30+2</td>\n",
       "      <td>30+2</td>\n",
       "      <td>30+2</td>\n",
       "      <td>26+2</td>\n",
       "      <td>75+1</td>\n",
       "      <td>https://cdn.sofifa.net/players/002/147/22_120.png</td>\n",
       "      <td>https://cdn.sofifa.net/teams/245/60.png</td>\n",
       "      <td>https://cdn.sofifa.net/flags/nl.png</td>\n",
       "      <td>NaN</td>\n",
       "      <td>https://cdn.sofifa.net/flags/nl.png</td>\n",
       "    </tr>\n",
       "    <tr>\n",
       "      <th>1480</th>\n",
       "      <td>162328</td>\n",
       "      <td>https://sofifa.com/player/162328/remko-pasveer...</td>\n",
       "      <td>R. Pasveer</td>\n",
       "      <td>Remko Pasveer</td>\n",
       "      <td>GK</td>\n",
       "      <td>75</td>\n",
       "      <td>75</td>\n",
       "      <td>625000.0</td>\n",
       "      <td>8000.0</td>\n",
       "      <td>37</td>\n",
       "      <td>...</td>\n",
       "      <td>29+2</td>\n",
       "      <td>29+2</td>\n",
       "      <td>29+2</td>\n",
       "      <td>28+2</td>\n",
       "      <td>74+1</td>\n",
       "      <td>https://cdn.sofifa.net/players/162/328/22_120.png</td>\n",
       "      <td>https://cdn.sofifa.net/teams/245/60.png</td>\n",
       "      <td>https://cdn.sofifa.net/flags/nl.png</td>\n",
       "      <td>NaN</td>\n",
       "      <td>https://cdn.sofifa.net/flags/nl.png</td>\n",
       "    </tr>\n",
       "    <tr>\n",
       "      <th>1583</th>\n",
       "      <td>198640</td>\n",
       "      <td>https://sofifa.com/player/198640/zakaria-labya...</td>\n",
       "      <td>Z. Labyad</td>\n",
       "      <td>Zakaria Labyad</td>\n",
       "      <td>CAM, CF</td>\n",
       "      <td>75</td>\n",
       "      <td>75</td>\n",
       "      <td>5500000.0</td>\n",
       "      <td>16000.0</td>\n",
       "      <td>28</td>\n",
       "      <td>...</td>\n",
       "      <td>44+2</td>\n",
       "      <td>44+2</td>\n",
       "      <td>44+2</td>\n",
       "      <td>54+2</td>\n",
       "      <td>18+2</td>\n",
       "      <td>https://cdn.sofifa.net/players/198/640/22_120.png</td>\n",
       "      <td>https://cdn.sofifa.net/teams/245/60.png</td>\n",
       "      <td>https://cdn.sofifa.net/flags/nl.png</td>\n",
       "      <td>NaN</td>\n",
       "      <td>https://cdn.sofifa.net/flags/ma.png</td>\n",
       "    </tr>\n",
       "    <tr>\n",
       "      <th>1950</th>\n",
       "      <td>251805</td>\n",
       "      <td>https://sofifa.com/player/251805/jurrien-timbe...</td>\n",
       "      <td>J. Timber</td>\n",
       "      <td>Jurriën David Norman Timber</td>\n",
       "      <td>CB, RB</td>\n",
       "      <td>75</td>\n",
       "      <td>86</td>\n",
       "      <td>11500000.0</td>\n",
       "      <td>10000.0</td>\n",
       "      <td>20</td>\n",
       "      <td>...</td>\n",
       "      <td>75+2</td>\n",
       "      <td>75+2</td>\n",
       "      <td>75+2</td>\n",
       "      <td>74+2</td>\n",
       "      <td>16+2</td>\n",
       "      <td>https://cdn.sofifa.net/players/251/805/22_120.png</td>\n",
       "      <td>https://cdn.sofifa.net/teams/245/60.png</td>\n",
       "      <td>https://cdn.sofifa.net/flags/nl.png</td>\n",
       "      <td>https://cdn.sofifa.net/teams/105035/60.png</td>\n",
       "      <td>https://cdn.sofifa.net/flags/nl.png</td>\n",
       "    </tr>\n",
       "    <tr>\n",
       "      <th>2174</th>\n",
       "      <td>219814</td>\n",
       "      <td>https://sofifa.com/player/219814/sean-klaiber/...</td>\n",
       "      <td>S. Klaiber</td>\n",
       "      <td>Sean Desmond Klaiber</td>\n",
       "      <td>RB</td>\n",
       "      <td>74</td>\n",
       "      <td>74</td>\n",
       "      <td>4200000.0</td>\n",
       "      <td>13000.0</td>\n",
       "      <td>26</td>\n",
       "      <td>...</td>\n",
       "      <td>71+2</td>\n",
       "      <td>71+2</td>\n",
       "      <td>71+2</td>\n",
       "      <td>72+2</td>\n",
       "      <td>21+2</td>\n",
       "      <td>https://cdn.sofifa.net/players/219/814/22_120.png</td>\n",
       "      <td>https://cdn.sofifa.net/teams/245/60.png</td>\n",
       "      <td>https://cdn.sofifa.net/flags/nl.png</td>\n",
       "      <td>NaN</td>\n",
       "      <td>https://cdn.sofifa.net/flags/sr.png</td>\n",
       "    </tr>\n",
       "    <tr>\n",
       "      <th>2376</th>\n",
       "      <td>241854</td>\n",
       "      <td>https://sofifa.com/player/241854/perr-schuurs/...</td>\n",
       "      <td>P. Schuurs</td>\n",
       "      <td>Perr Schuurs</td>\n",
       "      <td>CB</td>\n",
       "      <td>74</td>\n",
       "      <td>83</td>\n",
       "      <td>9000000.0</td>\n",
       "      <td>9000.0</td>\n",
       "      <td>21</td>\n",
       "      <td>...</td>\n",
       "      <td>74+2</td>\n",
       "      <td>74+2</td>\n",
       "      <td>74+2</td>\n",
       "      <td>73+2</td>\n",
       "      <td>16+2</td>\n",
       "      <td>https://cdn.sofifa.net/players/241/854/22_120.png</td>\n",
       "      <td>https://cdn.sofifa.net/teams/245/60.png</td>\n",
       "      <td>https://cdn.sofifa.net/flags/nl.png</td>\n",
       "      <td>NaN</td>\n",
       "      <td>https://cdn.sofifa.net/flags/nl.png</td>\n",
       "    </tr>\n",
       "    <tr>\n",
       "      <th>3086</th>\n",
       "      <td>258826</td>\n",
       "      <td>https://sofifa.com/player/258826/devyne-rensch...</td>\n",
       "      <td>D. Rensch</td>\n",
       "      <td>Devyne Fabian Jairo Rensch</td>\n",
       "      <td>RB</td>\n",
       "      <td>73</td>\n",
       "      <td>85</td>\n",
       "      <td>7000000.0</td>\n",
       "      <td>3000.0</td>\n",
       "      <td>18</td>\n",
       "      <td>...</td>\n",
       "      <td>70+2</td>\n",
       "      <td>70+2</td>\n",
       "      <td>70+2</td>\n",
       "      <td>71+2</td>\n",
       "      <td>16+2</td>\n",
       "      <td>https://cdn.sofifa.net/players/258/826/22_120.png</td>\n",
       "      <td>https://cdn.sofifa.net/teams/245/60.png</td>\n",
       "      <td>https://cdn.sofifa.net/flags/nl.png</td>\n",
       "      <td>NaN</td>\n",
       "      <td>https://cdn.sofifa.net/flags/nl.png</td>\n",
       "    </tr>\n",
       "    <tr>\n",
       "      <th>5232</th>\n",
       "      <td>239881</td>\n",
       "      <td>https://sofifa.com/player/239881/danilo-pereir...</td>\n",
       "      <td>Danilo</td>\n",
       "      <td>Danilo Pereira Da Silva</td>\n",
       "      <td>ST</td>\n",
       "      <td>70</td>\n",
       "      <td>78</td>\n",
       "      <td>3600000.0</td>\n",
       "      <td>9000.0</td>\n",
       "      <td>22</td>\n",
       "      <td>...</td>\n",
       "      <td>39+2</td>\n",
       "      <td>39+2</td>\n",
       "      <td>39+2</td>\n",
       "      <td>43+2</td>\n",
       "      <td>15+2</td>\n",
       "      <td>https://cdn.sofifa.net/players/239/881/22_120.png</td>\n",
       "      <td>https://cdn.sofifa.net/teams/245/60.png</td>\n",
       "      <td>https://cdn.sofifa.net/flags/nl.png</td>\n",
       "      <td>NaN</td>\n",
       "      <td>https://cdn.sofifa.net/flags/br.png</td>\n",
       "    </tr>\n",
       "    <tr>\n",
       "      <th>6260</th>\n",
       "      <td>246459</td>\n",
       "      <td>https://sofifa.com/player/246459/mohamed-daram...</td>\n",
       "      <td>M. Daramy</td>\n",
       "      <td>Mohamed Daramy</td>\n",
       "      <td>LW, ST, RW</td>\n",
       "      <td>69</td>\n",
       "      <td>82</td>\n",
       "      <td>3300000.0</td>\n",
       "      <td>5000.0</td>\n",
       "      <td>19</td>\n",
       "      <td>...</td>\n",
       "      <td>40+2</td>\n",
       "      <td>40+2</td>\n",
       "      <td>40+2</td>\n",
       "      <td>47+2</td>\n",
       "      <td>15+2</td>\n",
       "      <td>https://cdn.sofifa.net/players/246/459/22_120.png</td>\n",
       "      <td>https://cdn.sofifa.net/teams/245/60.png</td>\n",
       "      <td>https://cdn.sofifa.net/flags/nl.png</td>\n",
       "      <td>NaN</td>\n",
       "      <td>https://cdn.sofifa.net/flags/dk.png</td>\n",
       "    </tr>\n",
       "    <tr>\n",
       "      <th>6394</th>\n",
       "      <td>262262</td>\n",
       "      <td>https://sofifa.com/player/262262/jay-gorter/22...</td>\n",
       "      <td>J. Gorter</td>\n",
       "      <td>Jay Gorter</td>\n",
       "      <td>GK</td>\n",
       "      <td>69</td>\n",
       "      <td>80</td>\n",
       "      <td>2700000.0</td>\n",
       "      <td>4000.0</td>\n",
       "      <td>21</td>\n",
       "      <td>...</td>\n",
       "      <td>28+2</td>\n",
       "      <td>28+2</td>\n",
       "      <td>28+2</td>\n",
       "      <td>29+2</td>\n",
       "      <td>68+2</td>\n",
       "      <td>https://cdn.sofifa.net/players/262/262/22_120.png</td>\n",
       "      <td>https://cdn.sofifa.net/teams/245/60.png</td>\n",
       "      <td>https://cdn.sofifa.net/flags/nl.png</td>\n",
       "      <td>NaN</td>\n",
       "      <td>https://cdn.sofifa.net/flags/nl.png</td>\n",
       "    </tr>\n",
       "    <tr>\n",
       "      <th>7381</th>\n",
       "      <td>255009</td>\n",
       "      <td>https://sofifa.com/player/255009/kenneth-taylo...</td>\n",
       "      <td>K. Taylor</td>\n",
       "      <td>Kenneth Ina Dorothea Taylor</td>\n",
       "      <td>CM</td>\n",
       "      <td>68</td>\n",
       "      <td>82</td>\n",
       "      <td>2900000.0</td>\n",
       "      <td>4000.0</td>\n",
       "      <td>19</td>\n",
       "      <td>...</td>\n",
       "      <td>60+2</td>\n",
       "      <td>60+2</td>\n",
       "      <td>60+2</td>\n",
       "      <td>64+2</td>\n",
       "      <td>14+2</td>\n",
       "      <td>https://cdn.sofifa.net/players/255/009/22_120.png</td>\n",
       "      <td>https://cdn.sofifa.net/teams/245/60.png</td>\n",
       "      <td>https://cdn.sofifa.net/flags/nl.png</td>\n",
       "      <td>NaN</td>\n",
       "      <td>https://cdn.sofifa.net/flags/nl.png</td>\n",
       "    </tr>\n",
       "    <tr>\n",
       "      <th>9385</th>\n",
       "      <td>239379</td>\n",
       "      <td>https://sofifa.com/player/239379/victor-jensen...</td>\n",
       "      <td>V. Jensen</td>\n",
       "      <td>Victor Christoffer Jensen</td>\n",
       "      <td>CAM</td>\n",
       "      <td>66</td>\n",
       "      <td>78</td>\n",
       "      <td>2100000.0</td>\n",
       "      <td>3000.0</td>\n",
       "      <td>21</td>\n",
       "      <td>...</td>\n",
       "      <td>47+2</td>\n",
       "      <td>47+2</td>\n",
       "      <td>47+2</td>\n",
       "      <td>52+2</td>\n",
       "      <td>15+2</td>\n",
       "      <td>https://cdn.sofifa.net/players/239/379/22_120.png</td>\n",
       "      <td>https://cdn.sofifa.net/teams/245/60.png</td>\n",
       "      <td>https://cdn.sofifa.net/flags/nl.png</td>\n",
       "      <td>NaN</td>\n",
       "      <td>https://cdn.sofifa.net/flags/dk.png</td>\n",
       "    </tr>\n",
       "    <tr>\n",
       "      <th>14376</th>\n",
       "      <td>264220</td>\n",
       "      <td>https://sofifa.com/player/264220/youri-baas/22...</td>\n",
       "      <td>Y. Baas</td>\n",
       "      <td>Youri Baas</td>\n",
       "      <td>LB</td>\n",
       "      <td>62</td>\n",
       "      <td>75</td>\n",
       "      <td>875000.0</td>\n",
       "      <td>750.0</td>\n",
       "      <td>18</td>\n",
       "      <td>...</td>\n",
       "      <td>59+2</td>\n",
       "      <td>59+2</td>\n",
       "      <td>59+2</td>\n",
       "      <td>60+2</td>\n",
       "      <td>15+2</td>\n",
       "      <td>https://cdn.sofifa.net/players/264/220/22_120.png</td>\n",
       "      <td>https://cdn.sofifa.net/teams/245/60.png</td>\n",
       "      <td>https://cdn.sofifa.net/flags/nl.png</td>\n",
       "      <td>NaN</td>\n",
       "      <td>https://cdn.sofifa.net/flags/nl.png</td>\n",
       "    </tr>\n",
       "    <tr>\n",
       "      <th>15151</th>\n",
       "      <td>264221</td>\n",
       "      <td>https://sofifa.com/player/264221/arjany-martha...</td>\n",
       "      <td>A. Martha</td>\n",
       "      <td>Ar'jany Martha</td>\n",
       "      <td>RW</td>\n",
       "      <td>61</td>\n",
       "      <td>77</td>\n",
       "      <td>825000.0</td>\n",
       "      <td>600.0</td>\n",
       "      <td>17</td>\n",
       "      <td>...</td>\n",
       "      <td>37+2</td>\n",
       "      <td>37+2</td>\n",
       "      <td>37+2</td>\n",
       "      <td>44+2</td>\n",
       "      <td>14+2</td>\n",
       "      <td>https://cdn.sofifa.net/players/264/221/22_120.png</td>\n",
       "      <td>https://cdn.sofifa.net/teams/245/60.png</td>\n",
       "      <td>https://cdn.sofifa.net/flags/nl.png</td>\n",
       "      <td>NaN</td>\n",
       "      <td>https://cdn.sofifa.net/flags/nl.png</td>\n",
       "    </tr>\n",
       "    <tr>\n",
       "      <th>16364</th>\n",
       "      <td>261294</td>\n",
       "      <td>https://sofifa.com/player/261294/calvin-raatsi...</td>\n",
       "      <td>C. Raatsie</td>\n",
       "      <td>Calvin Owen Harm Raatsie</td>\n",
       "      <td>GK</td>\n",
       "      <td>59</td>\n",
       "      <td>71</td>\n",
       "      <td>475000.0</td>\n",
       "      <td>750.0</td>\n",
       "      <td>19</td>\n",
       "      <td>...</td>\n",
       "      <td>24+2</td>\n",
       "      <td>24+2</td>\n",
       "      <td>24+2</td>\n",
       "      <td>24+2</td>\n",
       "      <td>58+2</td>\n",
       "      <td>https://cdn.sofifa.net/players/261/294/22_120.png</td>\n",
       "      <td>https://cdn.sofifa.net/teams/245/60.png</td>\n",
       "      <td>https://cdn.sofifa.net/flags/nl.png</td>\n",
       "      <td>NaN</td>\n",
       "      <td>https://cdn.sofifa.net/flags/nl.png</td>\n",
       "    </tr>\n",
       "    <tr>\n",
       "      <th>16981</th>\n",
       "      <td>264415</td>\n",
       "      <td>https://sofifa.com/player/264415/charlie-setfo...</td>\n",
       "      <td>C. Setford</td>\n",
       "      <td>Charlie Setford</td>\n",
       "      <td>GK</td>\n",
       "      <td>58</td>\n",
       "      <td>76</td>\n",
       "      <td>450000.0</td>\n",
       "      <td>500.0</td>\n",
       "      <td>17</td>\n",
       "      <td>...</td>\n",
       "      <td>21+2</td>\n",
       "      <td>21+2</td>\n",
       "      <td>21+2</td>\n",
       "      <td>20+2</td>\n",
       "      <td>57+2</td>\n",
       "      <td>https://cdn.sofifa.net/players/264/415/22_120.png</td>\n",
       "      <td>https://cdn.sofifa.net/teams/245/60.png</td>\n",
       "      <td>https://cdn.sofifa.net/flags/nl.png</td>\n",
       "      <td>NaN</td>\n",
       "      <td>https://cdn.sofifa.net/flags/gb-eng.png</td>\n",
       "    </tr>\n",
       "  </tbody>\n",
       "</table>\n",
       "<p>29 rows × 110 columns</p>\n",
       "</div>"
      ],
      "text/plain": [
       "       sofifa_id                                         player_url  \\\n",
       "109       199434  https://sofifa.com/player/199434/dusan-tadic/2...   \n",
       "214       190815  https://sofifa.com/player/190815/daley-blind/2...   \n",
       "242       211256  https://sofifa.com/player/211256/nicolas-tagli...   \n",
       "314       200260  https://sofifa.com/player/200260/steven-berghu...   \n",
       "438       205693  https://sofifa.com/player/205693/sebastien-hal...   \n",
       "494       236401  https://sofifa.com/player/236401/noussair-mazr...   \n",
       "564       203483  https://sofifa.com/player/203483/davy-klaassen...   \n",
       "646       236632  https://sofifa.com/player/236632/david-neres-c...   \n",
       "649       239301  https://sofifa.com/player/239301/lisandro-mart...   \n",
       "662       255475  https://sofifa.com/player/255475/antony-matheu...   \n",
       "854       246104  https://sofifa.com/player/246104/ryan-gravenbe...   \n",
       "1079      235844  https://sofifa.com/player/235844/edson-alvarez...   \n",
       "1120      245155  https://sofifa.com/player/245155/mohammed-kudu...   \n",
       "1136        2147  https://sofifa.com/player/2147/maarten-stekele...   \n",
       "1480      162328  https://sofifa.com/player/162328/remko-pasveer...   \n",
       "1583      198640  https://sofifa.com/player/198640/zakaria-labya...   \n",
       "1950      251805  https://sofifa.com/player/251805/jurrien-timbe...   \n",
       "2174      219814  https://sofifa.com/player/219814/sean-klaiber/...   \n",
       "2376      241854  https://sofifa.com/player/241854/perr-schuurs/...   \n",
       "3086      258826  https://sofifa.com/player/258826/devyne-rensch...   \n",
       "5232      239881  https://sofifa.com/player/239881/danilo-pereir...   \n",
       "6260      246459  https://sofifa.com/player/246459/mohamed-daram...   \n",
       "6394      262262  https://sofifa.com/player/262262/jay-gorter/22...   \n",
       "7381      255009  https://sofifa.com/player/255009/kenneth-taylo...   \n",
       "9385      239379  https://sofifa.com/player/239379/victor-jensen...   \n",
       "14376     264220  https://sofifa.com/player/264220/youri-baas/22...   \n",
       "15151     264221  https://sofifa.com/player/264221/arjany-martha...   \n",
       "16364     261294  https://sofifa.com/player/261294/calvin-raatsi...   \n",
       "16981     264415  https://sofifa.com/player/264415/charlie-setfo...   \n",
       "\n",
       "            short_name                     long_name player_positions  \\\n",
       "109           D. Tadić                   Dušan Tadić      LW, CF, CAM   \n",
       "214           D. Blind                   Daley Blind      CB, CDM, LB   \n",
       "242      N. Tagliafico  Nicolás Alejandro Tagliafico               LB   \n",
       "314        S. Berghuis               Steven Berghuis               RW   \n",
       "438          S. Haller              Sébastien Haller               ST   \n",
       "494        N. Mazraoui             Noussair Mazraoui               RB   \n",
       "564        D. Klaassen                 Davy Klaassen          CAM, CM   \n",
       "646        David Neres            David Neres Campos           RW, LW   \n",
       "649        L. Martínez             Lisandro Martínez      CB, LB, CDM   \n",
       "662             Antony     Antony Matheus dos Santos               RW   \n",
       "854     R. Gravenberch         Ryan Jiro Gravenberch          CM, CDM   \n",
       "1079        E. Álvarez  Edson Omar Álvarez Velázquez          CDM, CB   \n",
       "1120          M. Kudus                Mohammed Kudus          CAM, CM   \n",
       "1136   M. Stekelenburg          Maarten Stekelenburg               GK   \n",
       "1480        R. Pasveer                 Remko Pasveer               GK   \n",
       "1583         Z. Labyad                Zakaria Labyad          CAM, CF   \n",
       "1950         J. Timber   Jurriën David Norman Timber           CB, RB   \n",
       "2174        S. Klaiber          Sean Desmond Klaiber               RB   \n",
       "2376        P. Schuurs                  Perr Schuurs               CB   \n",
       "3086         D. Rensch    Devyne Fabian Jairo Rensch               RB   \n",
       "5232            Danilo       Danilo Pereira Da Silva               ST   \n",
       "6260         M. Daramy                Mohamed Daramy       LW, ST, RW   \n",
       "6394         J. Gorter                    Jay Gorter               GK   \n",
       "7381         K. Taylor   Kenneth Ina Dorothea Taylor               CM   \n",
       "9385         V. Jensen     Victor Christoffer Jensen              CAM   \n",
       "14376          Y. Baas                    Youri Baas               LB   \n",
       "15151        A. Martha                Ar'jany Martha               RW   \n",
       "16364       C. Raatsie      Calvin Owen Harm Raatsie               GK   \n",
       "16981       C. Setford               Charlie Setford               GK   \n",
       "\n",
       "       overall  potential   value_eur  wage_eur  age  ...   lcb    cb   rcb  \\\n",
       "109         84         84  33500000.0   32000.0   32  ...  55+3  55+3  55+3   \n",
       "214         82         82  21000000.0   23000.0   31  ...  80+2  80+2  80+2   \n",
       "242         82         82  27500000.0   24000.0   28  ...  80+2  80+2  80+2   \n",
       "314         81         81  25500000.0   26000.0   29  ...  49+2  49+2  49+2   \n",
       "438         80         81  24500000.0   23000.0   27  ...  63+3  63+3  63+3   \n",
       "494         80         85  29500000.0   17000.0   23  ...  74+2  74+2  74+2   \n",
       "564         79         79  17500000.0   21000.0   28  ...  74+2  74+2  74+2   \n",
       "646         79         83  25000000.0   19000.0   24  ...  48+3  48+3  48+3   \n",
       "649         79         85  25000000.0   16000.0   23  ...  79+2  79+2  79+2   \n",
       "662         79         88  39500000.0   17000.0   21  ...  48+2  48+2  48+2   \n",
       "854         78         90  33000000.0   11000.0   19  ...  68+2  68+2  68+2   \n",
       "1079        77         83  15500000.0   14000.0   23  ...  78+2  78+2  78+2   \n",
       "1120        77         86  23000000.0   13000.0   20  ...  64+2  64+2  64+2   \n",
       "1136        76         76    825000.0    8000.0   38  ...  30+2  30+2  30+2   \n",
       "1480        75         75    625000.0    8000.0   37  ...  29+2  29+2  29+2   \n",
       "1583        75         75   5500000.0   16000.0   28  ...  44+2  44+2  44+2   \n",
       "1950        75         86  11500000.0   10000.0   20  ...  75+2  75+2  75+2   \n",
       "2174        74         74   4200000.0   13000.0   26  ...  71+2  71+2  71+2   \n",
       "2376        74         83   9000000.0    9000.0   21  ...  74+2  74+2  74+2   \n",
       "3086        73         85   7000000.0    3000.0   18  ...  70+2  70+2  70+2   \n",
       "5232        70         78   3600000.0    9000.0   22  ...  39+2  39+2  39+2   \n",
       "6260        69         82   3300000.0    5000.0   19  ...  40+2  40+2  40+2   \n",
       "6394        69         80   2700000.0    4000.0   21  ...  28+2  28+2  28+2   \n",
       "7381        68         82   2900000.0    4000.0   19  ...  60+2  60+2  60+2   \n",
       "9385        66         78   2100000.0    3000.0   21  ...  47+2  47+2  47+2   \n",
       "14376       62         75    875000.0     750.0   18  ...  59+2  59+2  59+2   \n",
       "15151       61         77    825000.0     600.0   17  ...  37+2  37+2  37+2   \n",
       "16364       59         71    475000.0     750.0   19  ...  24+2  24+2  24+2   \n",
       "16981       58         76    450000.0     500.0   17  ...  21+2  21+2  21+2   \n",
       "\n",
       "         rb    gk                                    player_face_url  \\\n",
       "109    61+3  20+3  https://cdn.sofifa.net/players/199/434/22_120.png   \n",
       "214    78+3  19+3  https://cdn.sofifa.net/players/190/815/22_120.png   \n",
       "242    80+2  21+3  https://cdn.sofifa.net/players/211/256/22_120.png   \n",
       "314    58+2  18+2  https://cdn.sofifa.net/players/200/260/22_120.png   \n",
       "438    60+3  15+3  https://cdn.sofifa.net/players/205/693/22_120.png   \n",
       "494    78+2  18+2  https://cdn.sofifa.net/players/236/401/22_120.png   \n",
       "564    74+2  19+2  https://cdn.sofifa.net/players/203/483/22_120.png   \n",
       "646    56+3  18+3  https://cdn.sofifa.net/players/236/632/22_120.png   \n",
       "649    77+2  18+2  https://cdn.sofifa.net/players/239/301/22_120.png   \n",
       "662    57+2  17+2  https://cdn.sofifa.net/players/255/475/22_120.png   \n",
       "854    72+2  17+2  https://cdn.sofifa.net/players/246/104/22_120.png   \n",
       "1079   75+2  15+2  https://cdn.sofifa.net/players/235/844/22_120.png   \n",
       "1120   67+2  15+2  https://cdn.sofifa.net/players/245/155/22_120.png   \n",
       "1136   26+2  75+1  https://cdn.sofifa.net/players/002/147/22_120.png   \n",
       "1480   28+2  74+1  https://cdn.sofifa.net/players/162/328/22_120.png   \n",
       "1583   54+2  18+2  https://cdn.sofifa.net/players/198/640/22_120.png   \n",
       "1950   74+2  16+2  https://cdn.sofifa.net/players/251/805/22_120.png   \n",
       "2174   72+2  21+2  https://cdn.sofifa.net/players/219/814/22_120.png   \n",
       "2376   73+2  16+2  https://cdn.sofifa.net/players/241/854/22_120.png   \n",
       "3086   71+2  16+2  https://cdn.sofifa.net/players/258/826/22_120.png   \n",
       "5232   43+2  15+2  https://cdn.sofifa.net/players/239/881/22_120.png   \n",
       "6260   47+2  15+2  https://cdn.sofifa.net/players/246/459/22_120.png   \n",
       "6394   29+2  68+2  https://cdn.sofifa.net/players/262/262/22_120.png   \n",
       "7381   64+2  14+2  https://cdn.sofifa.net/players/255/009/22_120.png   \n",
       "9385   52+2  15+2  https://cdn.sofifa.net/players/239/379/22_120.png   \n",
       "14376  60+2  15+2  https://cdn.sofifa.net/players/264/220/22_120.png   \n",
       "15151  44+2  14+2  https://cdn.sofifa.net/players/264/221/22_120.png   \n",
       "16364  24+2  58+2  https://cdn.sofifa.net/players/261/294/22_120.png   \n",
       "16981  20+2  57+2  https://cdn.sofifa.net/players/264/415/22_120.png   \n",
       "\n",
       "                                 club_logo_url  \\\n",
       "109    https://cdn.sofifa.net/teams/245/60.png   \n",
       "214    https://cdn.sofifa.net/teams/245/60.png   \n",
       "242    https://cdn.sofifa.net/teams/245/60.png   \n",
       "314    https://cdn.sofifa.net/teams/245/60.png   \n",
       "438    https://cdn.sofifa.net/teams/245/60.png   \n",
       "494    https://cdn.sofifa.net/teams/245/60.png   \n",
       "564    https://cdn.sofifa.net/teams/245/60.png   \n",
       "646    https://cdn.sofifa.net/teams/245/60.png   \n",
       "649    https://cdn.sofifa.net/teams/245/60.png   \n",
       "662    https://cdn.sofifa.net/teams/245/60.png   \n",
       "854    https://cdn.sofifa.net/teams/245/60.png   \n",
       "1079   https://cdn.sofifa.net/teams/245/60.png   \n",
       "1120   https://cdn.sofifa.net/teams/245/60.png   \n",
       "1136   https://cdn.sofifa.net/teams/245/60.png   \n",
       "1480   https://cdn.sofifa.net/teams/245/60.png   \n",
       "1583   https://cdn.sofifa.net/teams/245/60.png   \n",
       "1950   https://cdn.sofifa.net/teams/245/60.png   \n",
       "2174   https://cdn.sofifa.net/teams/245/60.png   \n",
       "2376   https://cdn.sofifa.net/teams/245/60.png   \n",
       "3086   https://cdn.sofifa.net/teams/245/60.png   \n",
       "5232   https://cdn.sofifa.net/teams/245/60.png   \n",
       "6260   https://cdn.sofifa.net/teams/245/60.png   \n",
       "6394   https://cdn.sofifa.net/teams/245/60.png   \n",
       "7381   https://cdn.sofifa.net/teams/245/60.png   \n",
       "9385   https://cdn.sofifa.net/teams/245/60.png   \n",
       "14376  https://cdn.sofifa.net/teams/245/60.png   \n",
       "15151  https://cdn.sofifa.net/teams/245/60.png   \n",
       "16364  https://cdn.sofifa.net/teams/245/60.png   \n",
       "16981  https://cdn.sofifa.net/teams/245/60.png   \n",
       "\n",
       "                             club_flag_url  \\\n",
       "109    https://cdn.sofifa.net/flags/nl.png   \n",
       "214    https://cdn.sofifa.net/flags/nl.png   \n",
       "242    https://cdn.sofifa.net/flags/nl.png   \n",
       "314    https://cdn.sofifa.net/flags/nl.png   \n",
       "438    https://cdn.sofifa.net/flags/nl.png   \n",
       "494    https://cdn.sofifa.net/flags/nl.png   \n",
       "564    https://cdn.sofifa.net/flags/nl.png   \n",
       "646    https://cdn.sofifa.net/flags/nl.png   \n",
       "649    https://cdn.sofifa.net/flags/nl.png   \n",
       "662    https://cdn.sofifa.net/flags/nl.png   \n",
       "854    https://cdn.sofifa.net/flags/nl.png   \n",
       "1079   https://cdn.sofifa.net/flags/nl.png   \n",
       "1120   https://cdn.sofifa.net/flags/nl.png   \n",
       "1136   https://cdn.sofifa.net/flags/nl.png   \n",
       "1480   https://cdn.sofifa.net/flags/nl.png   \n",
       "1583   https://cdn.sofifa.net/flags/nl.png   \n",
       "1950   https://cdn.sofifa.net/flags/nl.png   \n",
       "2174   https://cdn.sofifa.net/flags/nl.png   \n",
       "2376   https://cdn.sofifa.net/flags/nl.png   \n",
       "3086   https://cdn.sofifa.net/flags/nl.png   \n",
       "5232   https://cdn.sofifa.net/flags/nl.png   \n",
       "6260   https://cdn.sofifa.net/flags/nl.png   \n",
       "6394   https://cdn.sofifa.net/flags/nl.png   \n",
       "7381   https://cdn.sofifa.net/flags/nl.png   \n",
       "9385   https://cdn.sofifa.net/flags/nl.png   \n",
       "14376  https://cdn.sofifa.net/flags/nl.png   \n",
       "15151  https://cdn.sofifa.net/flags/nl.png   \n",
       "16364  https://cdn.sofifa.net/flags/nl.png   \n",
       "16981  https://cdn.sofifa.net/flags/nl.png   \n",
       "\n",
       "                                  nation_logo_url  \\\n",
       "109                                           NaN   \n",
       "214    https://cdn.sofifa.net/teams/105035/60.png   \n",
       "242      https://cdn.sofifa.net/teams/1369/60.png   \n",
       "314    https://cdn.sofifa.net/teams/105035/60.png   \n",
       "438                                           NaN   \n",
       "494                                           NaN   \n",
       "564    https://cdn.sofifa.net/teams/105035/60.png   \n",
       "646                                           NaN   \n",
       "649      https://cdn.sofifa.net/teams/1369/60.png   \n",
       "662                                           NaN   \n",
       "854    https://cdn.sofifa.net/teams/105035/60.png   \n",
       "1079     https://cdn.sofifa.net/teams/1386/60.png   \n",
       "1120                                          NaN   \n",
       "1136                                          NaN   \n",
       "1480                                          NaN   \n",
       "1583                                          NaN   \n",
       "1950   https://cdn.sofifa.net/teams/105035/60.png   \n",
       "2174                                          NaN   \n",
       "2376                                          NaN   \n",
       "3086                                          NaN   \n",
       "5232                                          NaN   \n",
       "6260                                          NaN   \n",
       "6394                                          NaN   \n",
       "7381                                          NaN   \n",
       "9385                                          NaN   \n",
       "14376                                         NaN   \n",
       "15151                                         NaN   \n",
       "16364                                         NaN   \n",
       "16981                                         NaN   \n",
       "\n",
       "                               nation_flag_url  \n",
       "109        https://cdn.sofifa.net/flags/rs.png  \n",
       "214        https://cdn.sofifa.net/flags/nl.png  \n",
       "242        https://cdn.sofifa.net/flags/ar.png  \n",
       "314        https://cdn.sofifa.net/flags/nl.png  \n",
       "438        https://cdn.sofifa.net/flags/ci.png  \n",
       "494        https://cdn.sofifa.net/flags/ma.png  \n",
       "564        https://cdn.sofifa.net/flags/nl.png  \n",
       "646        https://cdn.sofifa.net/flags/br.png  \n",
       "649        https://cdn.sofifa.net/flags/ar.png  \n",
       "662        https://cdn.sofifa.net/flags/br.png  \n",
       "854        https://cdn.sofifa.net/flags/nl.png  \n",
       "1079       https://cdn.sofifa.net/flags/mx.png  \n",
       "1120       https://cdn.sofifa.net/flags/gh.png  \n",
       "1136       https://cdn.sofifa.net/flags/nl.png  \n",
       "1480       https://cdn.sofifa.net/flags/nl.png  \n",
       "1583       https://cdn.sofifa.net/flags/ma.png  \n",
       "1950       https://cdn.sofifa.net/flags/nl.png  \n",
       "2174       https://cdn.sofifa.net/flags/sr.png  \n",
       "2376       https://cdn.sofifa.net/flags/nl.png  \n",
       "3086       https://cdn.sofifa.net/flags/nl.png  \n",
       "5232       https://cdn.sofifa.net/flags/br.png  \n",
       "6260       https://cdn.sofifa.net/flags/dk.png  \n",
       "6394       https://cdn.sofifa.net/flags/nl.png  \n",
       "7381       https://cdn.sofifa.net/flags/nl.png  \n",
       "9385       https://cdn.sofifa.net/flags/dk.png  \n",
       "14376      https://cdn.sofifa.net/flags/nl.png  \n",
       "15151      https://cdn.sofifa.net/flags/nl.png  \n",
       "16364      https://cdn.sofifa.net/flags/nl.png  \n",
       "16981  https://cdn.sofifa.net/flags/gb-eng.png  \n",
       "\n",
       "[29 rows x 110 columns]"
      ]
     },
     "execution_count": 8,
     "metadata": {},
     "output_type": "execute_result"
    }
   ],
   "source": [
    "df"
   ]
  },
  {
   "cell_type": "code",
   "execution_count": 9,
   "id": "c9387168",
   "metadata": {},
   "outputs": [],
   "source": [
    "# weights\n",
    "a = 0.5\n",
    "b = 1\n",
    "c = 2\n",
    "d = 3 "
   ]
  },
  {
   "cell_type": "code",
   "execution_count": 10,
   "id": "32d7b565",
   "metadata": {},
   "outputs": [
    {
     "name": "stderr",
     "output_type": "stream",
     "text": [
      "/var/folders/8d/6175mvsj4_n2htt582yswvnh0000gn/T/ipykernel_13238/1783558318.py:3: SettingWithCopyWarning: \n",
      "A value is trying to be set on a copy of a slice from a DataFrame.\n",
      "Try using .loc[row_indexer,col_indexer] = value instead\n",
      "\n",
      "See the caveats in the documentation: https://pandas.pydata.org/pandas-docs/stable/user_guide/indexing.html#returning-a-view-versus-a-copy\n",
      "  df['gk_Sweeper'] = (c*df.goalkeeping_speed + d*df.goalkeeping_reflexes + b*df.goalkeeping_positioning + d*df.goalkeeping_kicking + b*df.goalkeeping_handling + b*df.goalkeeping_diving + a*df.movement_reactions) / (a + 3*b + c + 2*d)\n"
     ]
    }
   ],
   "source": [
    "# GOALKEEPER\n",
    "\n",
    "df['gk_Sweeper'] = (c*df.goalkeeping_speed + d*df.goalkeeping_reflexes + b*df.goalkeeping_positioning + d*df.goalkeeping_kicking + b*df.goalkeeping_handling + b*df.goalkeeping_diving + a*df.movement_reactions) / (a + 3*b + c + 2*d)"
   ]
  },
  {
   "cell_type": "code",
   "execution_count": 11,
   "id": "30d544e1",
   "metadata": {},
   "outputs": [
    {
     "name": "stderr",
     "output_type": "stream",
     "text": [
      "/opt/homebrew/lib/python3.9/site-packages/seaborn/_decorators.py:36: FutureWarning: Pass the following variables as keyword args: x, y. From version 0.12, the only valid positional argument will be `data`, and passing other arguments without an explicit keyword will result in an error or misinterpretation.\n",
      "  warnings.warn(\n"
     ]
    },
    {
     "data": {
      "text/plain": [
       "Text(0, 0.5, 'Sweeping Score')"
      ]
     },
     "execution_count": 11,
     "metadata": {},
     "output_type": "execute_result"
    },
    {
     "data": {
      "image/png": "[encoded data removed]",
      "text/plain": [
       "<Figure size 216x216 with 1 Axes>"
      ]
     },
     "metadata": {
      "needs_background": "light"
     },
     "output_type": "display_data"
    }
   ],
   "source": [
    "plt.figure(figsize=(3,3))\n",
    "sd = df.sort_values('gk_Sweeper', ascending=False)[:1]\n",
    "x2 = np.array(list(sd['long_name']))\n",
    "y2 = np.array(list(sd['gk_Sweeper']))\n",
    "sns.barplot(x2, y2, palette= sns.color_palette(\"Blues_d\"))\n",
    "plt.ylabel(\"Sweeping Score\")"
   ]
  },
  {
   "cell_type": "code",
   "execution_count": 12,
   "id": "e9d2c695",
   "metadata": {},
   "outputs": [
    {
     "name": "stderr",
     "output_type": "stream",
     "text": [
      "/var/folders/8d/6175mvsj4_n2htt582yswvnh0000gn/T/ipykernel_13238/1029841791.py:3: SettingWithCopyWarning: \n",
      "A value is trying to be set on a copy of a slice from a DataFrame.\n",
      "Try using .loc[row_indexer,col_indexer] = value instead\n",
      "\n",
      "See the caveats in the documentation: https://pandas.pydata.org/pandas-docs/stable/user_guide/indexing.html#returning-a-view-versus-a-copy\n",
      "  df['df_centre_backs'] = ( d*df.movement_reactions + c*df.mentality_interceptions + d*df.defending_sliding_tackle + d*df.defending_standing_tackle + b*df.mentality_vision + b*df.attacking_crossing + a*df.attacking_short_passing + b*df.attacking_volleys+ c*df.movement_acceleration + b*df.movement_sprint_speed\n",
      "/var/folders/8d/6175mvsj4_n2htt582yswvnh0000gn/T/ipykernel_13238/1029841791.py:5: SettingWithCopyWarning: \n",
      "A value is trying to be set on a copy of a slice from a DataFrame.\n",
      "Try using .loc[row_indexer,col_indexer] = value instead\n",
      "\n",
      "See the caveats in the documentation: https://pandas.pydata.org/pandas-docs/stable/user_guide/indexing.html#returning-a-view-versus-a-copy\n",
      "  df['df_wb_Wing_Backs'] = (b*df.skill_ball_control + a*df.skill_dribbling + a*df.defending_marking_awareness + d*df.defending_sliding_tackle + d*df.defending_standing_tackle + a*df.mentality_positioning + c*df.mentality_vision + c*df.attacking_crossing + b*df.attacking_short_passing + c*df.attacking_volleys\n"
     ]
    }
   ],
   "source": [
    "# DEFENDER\n",
    "\n",
    "df['df_centre_backs'] = ( d*df.movement_reactions + c*df.mentality_interceptions + d*df.defending_sliding_tackle + d*df.defending_standing_tackle + b*df.mentality_vision + b*df.attacking_crossing + a*df.attacking_short_passing + b*df.attacking_volleys+ c*df.movement_acceleration + b*df.movement_sprint_speed\n",
    "+ d*df.power_stamina + d*df.power_jumping + d*df.attacking_heading_accuracy + b*df.power_long_shots + d*df.defending_marking_awareness + c*df.mentality_aggression)/(5*b + 3*c + 7*d)\n",
    "df['df_wb_Wing_Backs'] = (b*df.skill_ball_control + a*df.skill_dribbling + a*df.defending_marking_awareness + d*df.defending_sliding_tackle + d*df.defending_standing_tackle + a*df.mentality_positioning + c*df.mentality_vision + c*df.attacking_crossing + b*df.attacking_short_passing + c*df.attacking_volleys \n",
    "+ d*df.movement_acceleration + d*df.movement_sprint_speed + c*df.power_stamina + a*df.attacking_finishing)/(4*a + 2*b + 4*c + 4*d)"
   ]
  },
  {
   "cell_type": "code",
   "execution_count": 13,
   "id": "ded63686",
   "metadata": {},
   "outputs": [
    {
     "name": "stderr",
     "output_type": "stream",
     "text": [
      "/opt/homebrew/lib/python3.9/site-packages/seaborn/_decorators.py:36: FutureWarning: Pass the following variables as keyword args: x, y. From version 0.12, the only valid positional argument will be `data`, and passing other arguments without an explicit keyword will result in an error or misinterpretation.\n",
      "  warnings.warn(\n"
     ]
    },
    {
     "data": {
      "text/plain": [
       "Text(0, 0.5, 'RCB Score')"
      ]
     },
     "execution_count": 13,
     "metadata": {},
     "output_type": "execute_result"
    },
    {
     "data": {
      "image/png": "[encoded data removed]",
      "text/plain": [
       "<Figure size 216x216 with 1 Axes>"
      ]
     },
     "metadata": {
      "needs_background": "light"
     },
     "output_type": "display_data"
    }
   ],
   "source": [
    "plt.figure(figsize=(3,3))\n",
    "sd = df[(df['club_position'] == 'RCB')].sort_values('df_centre_backs', ascending=False)[:1]\n",
    "x2 = np.array(list(sd['long_name']))\n",
    "y2 = np.array(list(sd['df_centre_backs']))\n",
    "sns.barplot(x2, y2, palette=sns.color_palette(\"Blues_d\"))\n",
    "plt.ylabel(\"RCB Score\")"
   ]
  },
  {
   "cell_type": "code",
   "execution_count": 14,
   "id": "578556da",
   "metadata": {},
   "outputs": [
    {
     "name": "stderr",
     "output_type": "stream",
     "text": [
      "/opt/homebrew/lib/python3.9/site-packages/seaborn/_decorators.py:36: FutureWarning: Pass the following variables as keyword args: x, y. From version 0.12, the only valid positional argument will be `data`, and passing other arguments without an explicit keyword will result in an error or misinterpretation.\n",
      "  warnings.warn(\n"
     ]
    },
    {
     "data": {
      "text/plain": [
       "Text(0, 0.5, 'LCB Score')"
      ]
     },
     "execution_count": 14,
     "metadata": {},
     "output_type": "execute_result"
    },
    {
     "data": {
      "image/png": "[encoded data removed]",
      "text/plain": [
       "<Figure size 216x216 with 1 Axes>"
      ]
     },
     "metadata": {
      "needs_background": "light"
     },
     "output_type": "display_data"
    }
   ],
   "source": [
    "plt.figure(figsize=(3,3))\n",
    "sd = df[(df['club_position'] == 'LCB')].sort_values('df_centre_backs', ascending=False)[:1]\n",
    "x2 = np.array(list(sd['long_name']))\n",
    "y2 = np.array(list(sd['df_centre_backs']))\n",
    "sns.barplot(x2, y2, palette=sns.color_palette(\"Blues_d\"))\n",
    "plt.ylabel(\"LCB Score\")"
   ]
  },
  {
   "cell_type": "code",
   "execution_count": 15,
   "id": "3571c0c2",
   "metadata": {},
   "outputs": [
    {
     "name": "stderr",
     "output_type": "stream",
     "text": [
      "/opt/homebrew/lib/python3.9/site-packages/seaborn/_decorators.py:36: FutureWarning: Pass the following variables as keyword args: x, y. From version 0.12, the only valid positional argument will be `data`, and passing other arguments without an explicit keyword will result in an error or misinterpretation.\n",
      "  warnings.warn(\n"
     ]
    },
    {
     "data": {
      "text/plain": [
       "Text(0, 0.5, 'Left Back Score')"
      ]
     },
     "execution_count": 15,
     "metadata": {},
     "output_type": "execute_result"
    },
    {
     "data": {
      "image/png": "[encoded data removed]",
      "text/plain": [
       "<Figure size 216x216 with 1 Axes>"
      ]
     },
     "metadata": {
      "needs_background": "light"
     },
     "output_type": "display_data"
    }
   ],
   "source": [
    "plt.figure(figsize=(3,3))\n",
    "sd = df[(df['club_position'] == 'LWB') | (df['club_position'] == 'LB')].sort_values('df_wb_Wing_Backs', ascending=False)[:1]\n",
    "x4 = np.array(list(sd['long_name']))\n",
    "y4 = np.array(list(sd['df_wb_Wing_Backs']))\n",
    "sns.barplot(x4, y4, palette=sns.color_palette(\"Blues_d\"))\n",
    "plt.ylabel(\"Left Back Score\")"
   ]
  },
  {
   "cell_type": "code",
   "execution_count": 16,
   "id": "bb23c6e2",
   "metadata": {},
   "outputs": [
    {
     "name": "stderr",
     "output_type": "stream",
     "text": [
      "/opt/homebrew/lib/python3.9/site-packages/seaborn/_decorators.py:36: FutureWarning: Pass the following variables as keyword args: x, y. From version 0.12, the only valid positional argument will be `data`, and passing other arguments without an explicit keyword will result in an error or misinterpretation.\n",
      "  warnings.warn(\n"
     ]
    },
    {
     "data": {
      "text/plain": [
       "Text(0, 0.5, 'Right Back Score')"
      ]
     },
     "execution_count": 16,
     "metadata": {},
     "output_type": "execute_result"
    },
    {
     "data": {
      "image/png": "[encoded data removed]",
      "text/plain": [
       "<Figure size 216x216 with 1 Axes>"
      ]
     },
     "metadata": {
      "needs_background": "light"
     },
     "output_type": "display_data"
    }
   ],
   "source": [
    "plt.figure(figsize=(3,3))\n",
    "sd = df[(df['club_position'] == 'RWB') | (df['club_position'] == 'RB')].sort_values('df_wb_Wing_Backs', ascending=False)[:1]\n",
    "x4 = np.array(list(sd['long_name']))\n",
    "y4 = np.array(list(sd['df_wb_Wing_Backs']))\n",
    "sns.barplot(x4, y4, palette=sns.color_palette(\"Blues_d\"))\n",
    "plt.ylabel(\"Right Back Score\")"
   ]
  },
  {
   "cell_type": "code",
   "execution_count": 17,
   "id": "eaf90d41",
   "metadata": {},
   "outputs": [
    {
     "name": "stderr",
     "output_type": "stream",
     "text": [
      "/var/folders/8d/6175mvsj4_n2htt582yswvnh0000gn/T/ipykernel_13238/3038580598.py:3: SettingWithCopyWarning: \n",
      "A value is trying to be set on a copy of a slice from a DataFrame.\n",
      "Try using .loc[row_indexer,col_indexer] = value instead\n",
      "\n",
      "See the caveats in the documentation: https://pandas.pydata.org/pandas-docs/stable/user_guide/indexing.html#returning-a-view-versus-a-copy\n",
      "  df['mf_playmaker'] = (d*df.skill_ball_control + d*df.skill_dribbling + a*df.defending_marking_awareness + d*df.movement_reactions + d*df.mentality_vision + c*df.mentality_positioning + c*df.attacking_crossing + d*df.attacking_short_passing + c*df.skill_long_passing + c*df.skill_curve + b*df.power_long_shots + c*df.skill_fk_accuracy)/(1*a + 1*b + 4*c + 4*d)\n",
      "/var/folders/8d/6175mvsj4_n2htt582yswvnh0000gn/T/ipykernel_13238/3038580598.py:4: SettingWithCopyWarning: \n",
      "A value is trying to be set on a copy of a slice from a DataFrame.\n",
      "Try using .loc[row_indexer,col_indexer] = value instead\n",
      "\n",
      "See the caveats in the documentation: https://pandas.pydata.org/pandas-docs/stable/user_guide/indexing.html#returning-a-view-versus-a-copy\n",
      "  df['mf_beast'] = (d*df.movement_agility + c*df.movement_balance + b*df.power_jumping + c*df.power_strength + d*df.power_stamina + a*df.movement_sprint_speed + c*df.movement_acceleration + d*df.attacking_short_passing + c*df.mentality_aggression + d*df.movement_reactions + b*df.defending_marking_awareness + b*df.defending_standing_tackle + b*df.defending_sliding_tackle + b*df.mentality_interceptions)/(1*a + 5*b + 4*c + 4*d)\n",
      "/var/folders/8d/6175mvsj4_n2htt582yswvnh0000gn/T/ipykernel_13238/3038580598.py:5: SettingWithCopyWarning: \n",
      "A value is trying to be set on a copy of a slice from a DataFrame.\n",
      "Try using .loc[row_indexer,col_indexer] = value instead\n",
      "\n",
      "See the caveats in the documentation: https://pandas.pydata.org/pandas-docs/stable/user_guide/indexing.html#returning-a-view-versus-a-copy\n",
      "  df['mf_controller'] = (d*df.skill_ball_control + a*df.skill_dribbling + a*df.defending_marking_awareness + a*df.movement_reactions + c*df.mentality_vision + c*df.mentality_composure + d*df.attacking_short_passing + d*df.skill_long_passing)/(2*c + 3*d + 3*a)\n"
     ]
    }
   ],
   "source": [
    "# MIDFIELDERS\n",
    "\n",
    "df['mf_playmaker'] = (d*df.skill_ball_control + d*df.skill_dribbling + a*df.defending_marking_awareness + d*df.movement_reactions + d*df.mentality_vision + c*df.mentality_positioning + c*df.attacking_crossing + d*df.attacking_short_passing + c*df.skill_long_passing + c*df.skill_curve + b*df.power_long_shots + c*df.skill_fk_accuracy)/(1*a + 1*b + 4*c + 4*d)\n",
    "df['mf_beast'] = (d*df.movement_agility + c*df.movement_balance + b*df.power_jumping + c*df.power_strength + d*df.power_stamina + a*df.movement_sprint_speed + c*df.movement_acceleration + d*df.attacking_short_passing + c*df.mentality_aggression + d*df.movement_reactions + b*df.defending_marking_awareness + b*df.defending_standing_tackle + b*df.defending_sliding_tackle + b*df.mentality_interceptions)/(1*a + 5*b + 4*c + 4*d)\n",
    "df['mf_controller'] = (d*df.skill_ball_control + a*df.skill_dribbling + a*df.defending_marking_awareness + a*df.movement_reactions + c*df.mentality_vision + c*df.mentality_composure + d*df.attacking_short_passing + d*df.skill_long_passing)/(2*c + 3*d + 3*a)\n"
   ]
  },
  {
   "cell_type": "code",
   "execution_count": 18,
   "id": "0f141ae5",
   "metadata": {},
   "outputs": [
    {
     "name": "stderr",
     "output_type": "stream",
     "text": [
      "/opt/homebrew/lib/python3.9/site-packages/seaborn/_decorators.py:36: FutureWarning: Pass the following variables as keyword args: x, y. From version 0.12, the only valid positional argument will be `data`, and passing other arguments without an explicit keyword will result in an error or misinterpretation.\n",
      "  warnings.warn(\n"
     ]
    },
    {
     "data": {
      "text/plain": [
       "Text(0, 0.5, 'PlayMaker Score')"
      ]
     },
     "execution_count": 18,
     "metadata": {},
     "output_type": "execute_result"
    },
    {
     "data": {
      "image/png": "[encoded data removed]",
      "text/plain": [
       "<Figure size 216x216 with 1 Axes>"
      ]
     },
     "metadata": {
      "needs_background": "light"
     },
     "output_type": "display_data"
    }
   ],
   "source": [
    "plt.figure(figsize=(3,3))\n",
    "ss = df[(df['club_position'] == 'CAM') | (df['club_position'] == 'LAM') | (df['club_position'] == 'RAM')].sort_values('mf_playmaker', ascending=False)[:1]\n",
    "x3 = np.array(list(ss['long_name']))\n",
    "y3 = np.array(list(ss['mf_playmaker']))\n",
    "sns.barplot(x3, y3, palette=sns.color_palette(\"Blues_d\"))\n",
    "plt.ylabel(\"PlayMaker Score\")"
   ]
  },
  {
   "cell_type": "code",
   "execution_count": 19,
   "id": "126a1248",
   "metadata": {},
   "outputs": [
    {
     "name": "stderr",
     "output_type": "stream",
     "text": [
      "/opt/homebrew/lib/python3.9/site-packages/seaborn/_decorators.py:36: FutureWarning: Pass the following variables as keyword args: x, y. From version 0.12, the only valid positional argument will be `data`, and passing other arguments without an explicit keyword will result in an error or misinterpretation.\n",
      "  warnings.warn(\n"
     ]
    },
    {
     "data": {
      "text/plain": [
       "Text(0, 0.5, 'Beast Score')"
      ]
     },
     "execution_count": 19,
     "metadata": {},
     "output_type": "execute_result"
    },
    {
     "data": {
      "image/png": "[encoded data removed]",
      "text/plain": [
       "<Figure size 216x216 with 1 Axes>"
      ]
     },
     "metadata": {
      "needs_background": "light"
     },
     "output_type": "display_data"
    }
   ],
   "source": [
    "plt.figure(figsize=(3,3)) \n",
    "ss = df[(df['club_position'] == 'RCM') | (df['club_position'] == 'RM')].sort_values('mf_beast', ascending=False)[:1]\n",
    "x2 = np.array(list(ss['long_name']))\n",
    "y2 = np.array(list(ss['mf_beast']))\n",
    "sns.barplot(x2, y2, palette=sns.color_palette(\"Blues_d\"))\n",
    "plt.ylabel(\"Beast Score\")"
   ]
  },
  {
   "cell_type": "code",
   "execution_count": 20,
   "id": "3219f2cf",
   "metadata": {},
   "outputs": [
    {
     "name": "stderr",
     "output_type": "stream",
     "text": [
      "/opt/homebrew/lib/python3.9/site-packages/seaborn/_decorators.py:36: FutureWarning: Pass the following variables as keyword args: x, y. From version 0.12, the only valid positional argument will be `data`, and passing other arguments without an explicit keyword will result in an error or misinterpretation.\n",
      "  warnings.warn(\n"
     ]
    },
    {
     "data": {
      "text/plain": [
       "Text(0, 0.5, 'Controller Score')"
      ]
     },
     "execution_count": 20,
     "metadata": {},
     "output_type": "execute_result"
    },
    {
     "data": {
      "image/png": "[encoded data removed]",
      "text/plain": [
       "<Figure size 216x216 with 1 Axes>"
      ]
     },
     "metadata": {
      "needs_background": "light"
     },
     "output_type": "display_data"
    }
   ],
   "source": [
    "plt.figure(figsize=(3,3)) \n",
    "ss = df[(df['club_position'] == 'LCM') | (df['club_position'] == 'LM')].sort_values('mf_controller', ascending=False)[:1]\n",
    "x1 = np.array(list(ss['long_name']))\n",
    "y1 = np.array(list(ss['mf_controller']))\n",
    "sns.barplot(x1, y1, palette=sns.color_palette(\"Blues_d\"))\n",
    "plt.ylabel(\"Controller Score\")"
   ]
  },
  {
   "cell_type": "code",
   "execution_count": 21,
   "id": "b3a02249",
   "metadata": {},
   "outputs": [
    {
     "name": "stderr",
     "output_type": "stream",
     "text": [
      "/var/folders/8d/6175mvsj4_n2htt582yswvnh0000gn/T/ipykernel_13238/3060068386.py:3: SettingWithCopyWarning: \n",
      "A value is trying to be set on a copy of a slice from a DataFrame.\n",
      "Try using .loc[row_indexer,col_indexer] = value instead\n",
      "\n",
      "See the caveats in the documentation: https://pandas.pydata.org/pandas-docs/stable/user_guide/indexing.html#returning-a-view-versus-a-copy\n",
      "  df['att_left_wing'] = (c*df.attacking_volleys + c*df.skill_ball_control + c*df.skill_dribbling + c*df.movement_sprint_speed + d*df.movement_acceleration + b*df.mentality_vision + c*df.attacking_crossing + b*df.attacking_short_passing + b*df.skill_long_passing + b*df.mentality_aggression + b*df.movement_agility + a*df.skill_curve + c*df.power_long_shots + b*df.skill_fk_accuracy + d*df.attacking_finishing)/(a + 6*b + 6*c + 2*d)\n",
      "/var/folders/8d/6175mvsj4_n2htt582yswvnh0000gn/T/ipykernel_13238/3060068386.py:4: SettingWithCopyWarning: \n",
      "A value is trying to be set on a copy of a slice from a DataFrame.\n",
      "Try using .loc[row_indexer,col_indexer] = value instead\n",
      "\n",
      "See the caveats in the documentation: https://pandas.pydata.org/pandas-docs/stable/user_guide/indexing.html#returning-a-view-versus-a-copy\n",
      "  df['att_right_wing'] = (c*df.attacking_volleys + c*df.skill_ball_control + c*df.skill_dribbling + c*df.movement_sprint_speed + d*df.movement_acceleration + b*df.mentality_vision + c*df.attacking_crossing + b*df.attacking_short_passing + b*df.skill_long_passing + b*df.mentality_aggression + b*df.movement_agility + a*df.skill_curve + c*df.power_long_shots + b*df.skill_fk_accuracy + d*df.attacking_finishing)/(a + 6*b + 6*c + 2*d)\n",
      "/var/folders/8d/6175mvsj4_n2htt582yswvnh0000gn/T/ipykernel_13238/3060068386.py:5: SettingWithCopyWarning: \n",
      "A value is trying to be set on a copy of a slice from a DataFrame.\n",
      "Try using .loc[row_indexer,col_indexer] = value instead\n",
      "\n",
      "See the caveats in the documentation: https://pandas.pydata.org/pandas-docs/stable/user_guide/indexing.html#returning-a-view-versus-a-copy\n",
      "  df['att_striker'] = (b*df.attacking_volleys + b*df.skill_ball_control + a*df.mentality_vision + b*df.mentality_aggression + b*df.movement_agility + a*df.skill_curve + a*df.power_long_shots + d*df.movement_balance + d*df.attacking_finishing + d*df.attacking_heading_accuracy + c*df.power_jumping + c*df.skill_dribbling)/(3*a + 4*b + 2*c + 3*d)\n"
     ]
    }
   ],
   "source": [
    "# ATTACKERS\n",
    "\n",
    "df['att_left_wing'] = (c*df.attacking_volleys + c*df.skill_ball_control + c*df.skill_dribbling + c*df.movement_sprint_speed + d*df.movement_acceleration + b*df.mentality_vision + c*df.attacking_crossing + b*df.attacking_short_passing + b*df.skill_long_passing + b*df.mentality_aggression + b*df.movement_agility + a*df.skill_curve + c*df.power_long_shots + b*df.skill_fk_accuracy + d*df.attacking_finishing)/(a + 6*b + 6*c + 2*d)\n",
    "df['att_right_wing'] = (c*df.attacking_volleys + c*df.skill_ball_control + c*df.skill_dribbling + c*df.movement_sprint_speed + d*df.movement_acceleration + b*df.mentality_vision + c*df.attacking_crossing + b*df.attacking_short_passing + b*df.skill_long_passing + b*df.mentality_aggression + b*df.movement_agility + a*df.skill_curve + c*df.power_long_shots + b*df.skill_fk_accuracy + d*df.attacking_finishing)/(a + 6*b + 6*c + 2*d)\n",
    "df['att_striker'] = (b*df.attacking_volleys + b*df.skill_ball_control + a*df.mentality_vision + b*df.mentality_aggression + b*df.movement_agility + a*df.skill_curve + a*df.power_long_shots + d*df.movement_balance + d*df.attacking_finishing + d*df.attacking_heading_accuracy + c*df.power_jumping + c*df.skill_dribbling)/(3*a + 4*b + 2*c + 3*d)\n"
   ]
  },
  {
   "cell_type": "code",
   "execution_count": 22,
   "id": "770a7dce",
   "metadata": {},
   "outputs": [
    {
     "name": "stderr",
     "output_type": "stream",
     "text": [
      "/opt/homebrew/lib/python3.9/site-packages/seaborn/_decorators.py:36: FutureWarning: Pass the following variables as keyword args: x, y. From version 0.12, the only valid positional argument will be `data`, and passing other arguments without an explicit keyword will result in an error or misinterpretation.\n",
      "  warnings.warn(\n"
     ]
    },
    {
     "data": {
      "text/plain": [
       "Text(0, 0.5, 'Left Wing')"
      ]
     },
     "execution_count": 22,
     "metadata": {},
     "output_type": "execute_result"
    },
    {
     "data": {
      "image/png": "[encoded data removed]",
      "text/plain": [
       "<Figure size 216x216 with 1 Axes>"
      ]
     },
     "metadata": {
      "needs_background": "light"
     },
     "output_type": "display_data"
    }
   ],
   "source": [
    "plt.figure(figsize=(3,3))\n",
    "ss = df[(df['club_position'] == 'LW') | (df['club_position'] == 'LM') | (df['club_position'] == 'LS')].sort_values('att_left_wing', ascending=False)[:1]\n",
    "x1 = np.array(list(ss['long_name']))\n",
    "y1 = np.array(list(ss['att_left_wing']))\n",
    "sns.barplot(x1, y1, palette=sns.color_palette(\"Blues_d\"))\n",
    "plt.ylabel(\"Left Wing\")"
   ]
  },
  {
   "cell_type": "code",
   "execution_count": 23,
   "id": "a4dd561f",
   "metadata": {},
   "outputs": [
    {
     "name": "stderr",
     "output_type": "stream",
     "text": [
      "/opt/homebrew/lib/python3.9/site-packages/seaborn/_decorators.py:36: FutureWarning: Pass the following variables as keyword args: x, y. From version 0.12, the only valid positional argument will be `data`, and passing other arguments without an explicit keyword will result in an error or misinterpretation.\n",
      "  warnings.warn(\n"
     ]
    },
    {
     "data": {
      "text/plain": [
       "Text(0, 0.5, 'Right Wing')"
      ]
     },
     "execution_count": 23,
     "metadata": {},
     "output_type": "execute_result"
    },
    {
     "data": {
      "image/png": "[encoded data removed]",
      "text/plain": [
       "<Figure size 216x216 with 1 Axes>"
      ]
     },
     "metadata": {
      "needs_background": "light"
     },
     "output_type": "display_data"
    }
   ],
   "source": [
    "plt.figure(figsize=(3,3))\n",
    "ss = df[(df['club_position'] == 'RW') | (df['club_position'] == 'RM') | (df['club_position'] == 'RS')].sort_values('att_right_wing', ascending=False)[:1]\n",
    "x2 = np.array(list(ss['long_name']))\n",
    "y2 = np.array(list(ss['att_right_wing']))\n",
    "sns.barplot(x2, y2, palette=sns.color_palette(\"Blues_d\"))\n",
    "plt.ylabel(\"Right Wing\")"
   ]
  },
  {
   "cell_type": "code",
   "execution_count": 24,
   "id": "71146a83",
   "metadata": {},
   "outputs": [
    {
     "name": "stderr",
     "output_type": "stream",
     "text": [
      "/opt/homebrew/lib/python3.9/site-packages/seaborn/_decorators.py:36: FutureWarning: Pass the following variables as keyword args: x, y. From version 0.12, the only valid positional argument will be `data`, and passing other arguments without an explicit keyword will result in an error or misinterpretation.\n",
      "  warnings.warn(\n"
     ]
    },
    {
     "data": {
      "text/plain": [
       "Text(0, 0.5, 'Striker')"
      ]
     },
     "execution_count": 24,
     "metadata": {},
     "output_type": "execute_result"
    },
    {
     "data": {
      "image/png": "[encoded data removed]",
      "text/plain": [
       "<Figure size 216x216 with 1 Axes>"
      ]
     },
     "metadata": {
      "needs_background": "light"
     },
     "output_type": "display_data"
    }
   ],
   "source": [
    "plt.figure(figsize=(3,3))\n",
    "ss = df[(df['club_position'] == 'ST') | (df['club_position'] == 'LS') | (df['club_position'] == 'RS') | (df['club_position'] == 'CF')].sort_values('att_striker', ascending=False)[:1]\n",
    "x3 = np.array(list(ss['long_name']))\n",
    "y3 = np.array(list(ss['att_striker']))\n",
    "sns.barplot(x3, y3, palette=sns.color_palette(\"Blues_d\"))\n",
    "plt.ylabel(\"Striker\")"
   ]
  },
  {
   "cell_type": "code",
   "execution_count": null,
   "id": "3458d04d",
   "metadata": {},
   "outputs": [],
   "source": []
  }
 ],
 "metadata": {
  "kernelspec": {
   "display_name": "Python 3 (ipykernel)",
   "language": "python",
   "name": "python3"
  },
  "language_info": {
   "codemirror_mode": {
    "name": "ipython",
    "version": 3
   },
   "file_extension": ".py",
   "mimetype": "text/x-python",
   "name": "python",
   "nbconvert_exporter": "python",
   "pygments_lexer": "ipython3",
   "version": "3.9.10"
  }
 },
 "nbformat": 4,
 "nbformat_minor": 5
}
